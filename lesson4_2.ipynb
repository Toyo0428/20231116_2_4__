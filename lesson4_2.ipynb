{
 "cells": [
  {
   "cell_type": "code",
   "execution_count": 4,
   "metadata": {},
   "outputs": [
    {
     "name": "stdout",
     "output_type": "stream",
     "text": [
      "請是true的程式區塊\n",
      "大於18\n",
      "程式結束\n"
     ]
    }
   ],
   "source": [
    "#if\n",
    "\n",
    "a=21\n",
    "\n",
    "if a > 18:\n",
    "    print(\"請是true的程式區塊\")\n",
    "    print(\"大於18\")\n",
    "print(\"程式結束\")    "
   ]
  },
  {
   "cell_type": "code",
   "execution_count": 5,
   "metadata": {},
   "outputs": [
    {
     "name": "stdout",
     "output_type": "stream",
     "text": [
      "程式結束\n"
     ]
    }
   ],
   "source": [
    "#if\n",
    "\n",
    "a=17\n",
    "\n",
    "if a > 18:\n",
    "    print(\"請是true的程式區塊\")\n",
    "    print(\"大於18\")\n",
    "print(\"程式結束\")    "
   ]
  },
  {
   "cell_type": "code",
   "execution_count": 9,
   "metadata": {},
   "outputs": [
    {
     "name": "stdout",
     "output_type": "stream",
     "text": [
      "qq\n",
      "Ok\n"
     ]
    }
   ],
   "source": [
    "\n",
    "a=18\n",
    "\n",
    "if a>15:\n",
    "    print(\"qq\")\n",
    "else:\n",
    "    print(\"kk\")\n",
    "\n",
    "print('Ok')"
   ]
  },
  {
   "cell_type": "code",
   "execution_count": 13,
   "metadata": {},
   "outputs": [
    {
     "name": "stdout",
     "output_type": "stream",
     "text": [
      "你no成年了\n",
      "你的age是:15\n"
     ]
    }
   ],
   "source": [
    "age=int(input(\"請輸入age\"))\n",
    "\n",
    "if age>=18:\n",
    "    print(\"你已經成年了\")\n",
    "    \n",
    "else:\n",
    "    print(\"你未成年了\")\n",
    "     \n",
    "\n",
    "print(f'你的age是:{age}')  \n"
   ]
  },
  {
   "cell_type": "code",
   "execution_count": 37,
   "metadata": {},
   "outputs": [
    {
     "name": "stdout",
     "output_type": "stream",
     "text": [
      "學生分數是300\n",
      "學生分數是300\n",
      "學生分數是300\n"
     ]
    }
   ],
   "source": [
    "#學生總分300\n",
    "#要檢查學生輸入分數是<=300\n",
    "#有些學生可以加分5%\n",
    "#如果加分超過300,就以300分為準\n",
    "\n",
    "scores=int(input(\"請輸入學生分數(最高300分):\"))\n",
    "if scores <=300:\n",
    "    is_add=input(\"學生是否符合加分條件?(y,n)\")   \n",
    "\n",
    "    if is_add==\"y\":\n",
    "        scores*=1.05\n",
    "        if scores>=300:\n",
    "            scores=300\n",
    "    \n",
    "    print(f'學生分數是{scores:.0f}') \n",
    "    print(f'學生分數是{int(scores)}') \n",
    "    print(f'學生分數是{round(scores)}')     \n",
    "    #scores+=100  #  y=y+10  =  y+=10\n",
    "\n",
    "else:\n",
    "    print(\"學生分數不可以超過300分\")"
   ]
  },
  {
   "cell_type": "code",
   "execution_count": 1,
   "metadata": {},
   "outputs": [
    {
     "name": "stdout",
     "output_type": "stream",
     "text": [
      "學生分數為250\n"
     ]
    }
   ],
   "source": [
    "score=int(input(\"請輸入學生分數(最高300分):\"))\n",
    "if score<=300:\n",
    "\n",
    "    print(f'學生分數為{score}')\n",
    "\n",
    "else:\n",
    "\n",
    "    print(\"學生分數不可超過300分\")\n",
    "\n",
    "\n"
   ]
  },
  {
   "cell_type": "code",
   "execution_count": null,
   "metadata": {},
   "outputs": [],
   "source": []
  }
 ],
 "metadata": {
  "kernelspec": {
   "display_name": "Python 3",
   "language": "python",
   "name": "python3"
  },
  "language_info": {
   "codemirror_mode": {
    "name": "ipython",
    "version": 3
   },
   "file_extension": ".py",
   "mimetype": "text/x-python",
   "name": "python",
   "nbconvert_exporter": "python",
   "pygments_lexer": "ipython3",
   "version": "3.10.13"
  }
 },
 "nbformat": 4,
 "nbformat_minor": 2
}
