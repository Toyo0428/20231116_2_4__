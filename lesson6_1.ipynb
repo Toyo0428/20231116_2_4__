{
 "cells": [
  {
   "cell_type": "code",
   "execution_count": 2,
   "metadata": {},
   "outputs": [
    {
     "name": "stdout",
     "output_type": "stream",
     "text": [
      "請輸入分數(1~100):50\n",
      "丁\n"
     ]
    }
   ],
   "source": [
    "import pyinputplus as pyip\n",
    "\n",
    "scores=pyip.inputInt(\"請輸入分數(1~100):\",max=100,min=0)\n",
    "print(scores)\n",
    "\n",
    "if scores>=90:\n",
    "    print('優')\n",
    "elif scores>=80:\n",
    "    print('甲')\n",
    "elif scores>=70:\n",
    "    print('乙')\n",
    "elif scores>=60:\n",
    "    print('丙')\n",
    "else:\n",
    "    print('丁')\n"
   ]
  },
  {
   "cell_type": "code",
   "execution_count": 5,
   "metadata": {},
   "outputs": [
    {
     "name": "stdout",
     "output_type": "stream",
     "text": [
      "未成年\n"
     ]
    }
   ],
   "source": [
    "#not運算子\n",
    "age=15\n",
    "\n",
    "if not age>=18:\n",
    "    print('未成年')\n",
    "else:\n",
    "    print('成年')"
   ]
  },
  {
   "cell_type": "code",
   "execution_count": 13,
   "metadata": {},
   "outputs": [
    {
     "name": "stdout",
     "output_type": "stream",
     "text": [
      "請輸入國文分數(1~100):請輸入數學分數(1~100):獎金0\n"
     ]
    }
   ],
   "source": [
    "import pyinputplus as pyip\n",
    "\n",
    "chinese=pyip.inputInt(\"請輸入國文分數(1~100):\",max=100,min=0)\n",
    "math=pyip.inputInt(\"請輸入數學分數(1~100):\",max=100,min=0)\n",
    "\n",
    "if chinese==100 and math == 100:\n",
    "    print('獎金1000元')\n",
    "elif chinese==100 or math==100:\n",
    "    print('獎金500')\n",
    "else:\n",
    "    print('獎金0')\n"
   ]
  },
  {
   "cell_type": "code",
   "execution_count": 11,
   "metadata": {},
   "outputs": [
    {
     "name": "stdout",
     "output_type": "stream",
     "text": [
      "請輸入國文分數:100\n",
      "請輸入數學分數:Number must be at maximum 100.\n",
      "請輸入數學分數:20\n",
      "獎金:500\n"
     ]
    }
   ],
   "source": [
    "#國文分數100同時數學100,獎金1000\n",
    "#國文分數100或者數學100,獎金500\n",
    "#使用巢狀判斷\n",
    "import pyinputplus as pyip\n",
    "chinese = pyip.inputInt(\"請輸入國文分數:\",min=0,max=100)\n",
    "print(chinese)\n",
    "math = pyip.inputInt(\"請輸入數學分數:\",min=0,max=100)\n",
    "print(math)\n",
    "\n",
    "if chinese == 100:\n",
    "    if math == 100:\n",
    "        bonus = 1000\n",
    "    else:\n",
    "        bonus = 500\n",
    "elif math == 100:\n",
    "    bonus = 500\n",
    "else:\n",
    "    bonus = 0\n",
    "\n",
    "print(f\"獎金:{bonus}\")"
   ]
  },
  {
   "cell_type": "code",
   "execution_count": 18,
   "metadata": {},
   "outputs": [
    {
     "name": "stdout",
     "output_type": "stream",
     "text": [
      "請輸入體重:請輸入身高:22.857142857142858\n"
     ]
    }
   ],
   "source": [
    "import pyinputplus as pyip\n",
    "weight = pyip.inputInt(\"請輸入體重:\",min=0,max=150)\n",
    "height = pyip.inputInt(\"請輸入身高:\",min=0,max=300)\n",
    "\n",
    "bmi = weight / (height/100) ** 2\n",
    "print (bmi)"
   ]
  }
 ],
 "metadata": {
  "kernelspec": {
   "display_name": "Python 3",
   "language": "python",
   "name": "python3"
  },
  "language_info": {
   "codemirror_mode": {
    "name": "ipython",
    "version": 3
   },
   "file_extension": ".py",
   "mimetype": "text/x-python",
   "name": "python",
   "nbconvert_exporter": "python",
   "pygments_lexer": "ipython3",
   "version": "3.10.13"
  }
 },
 "nbformat": 4,
 "nbformat_minor": 2
}
