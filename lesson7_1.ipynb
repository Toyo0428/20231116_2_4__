{
 "cells": [
  {
   "cell_type": "code",
   "execution_count": 1,
   "metadata": {},
   "outputs": [
    {
     "name": "stdout",
     "output_type": "stream",
     "text": [
      "請輸入第1月份存款:500\n",
      "請輸入第2月份存款:600\n",
      "請輸入第3月份存款:470\n",
      "請輸入第4月份存款:500\n",
      "請輸入第5月份存款:5000\n",
      "請輸入第6月份存款:6000\n",
      "請輸入第7月份存款:4444\n",
      "請輸入第8月份存款:5000\n",
      "請輸入第9月份存款:6000\n",
      "請輸入第10月份存款:5000\n",
      "恭喜!已經存夠了,共存了10月份,總存款為:33514\n"
     ]
    }
   ],
   "source": [
    "#小明想要存錢買一輛機車,機車每輛30000元，他將每月存的錢輸入，當存款足夠買機車時，就顯示提示訊息告知。\n",
    "import pyinputplus as pyip\n",
    "deposit = 0\n",
    "month = 0\n",
    "while deposit < 30000:\n",
    "    month += 1\n",
    "    money_month = pyip.inputInt(f\"請輸入第{month}月份存款:\")    \n",
    "    print(money_month)\n",
    "    deposit += money_month\n",
    "\n",
    "print(f\"恭喜!已經存夠了,共存了{month}月份,總存款為:{deposit}\")"
   ]
  },
  {
   "cell_type": "code",
   "execution_count": 5,
   "metadata": {},
   "outputs": [
    {
     "name": "stdout",
     "output_type": "stream",
     "text": [
      "請輸入小寫英文字[按q會離開]:Sasc\n",
      "請輸入小寫英文字[按q會離開]:Sc\n",
      "請輸入小寫英文字[按q會離開]:A\n",
      "請輸入小寫英文字[按q會離開]:結束程式\n"
     ]
    }
   ],
   "source": [
    "#輸入小寫的英文字,列印出第一個字大寫的英文字\n",
    "#如果輸入q,就會離開\n",
    "\n",
    "stuff = pyip.inputStr(\"請輸入小寫英文字[按q會離開]:\")\n",
    "while(stuff != 'q'):\n",
    "    print(stuff.capitalize())\n",
    "    stuff = pyip.inputStr(\"請輸入小寫英文字[按q會離開]:\")\n",
    "    \n",
    "print(\"結束程式\")"
   ]
  },
  {
   "cell_type": "code",
   "execution_count": 7,
   "metadata": {},
   "outputs": [
    {
     "name": "stdout",
     "output_type": "stream",
     "text": [
      "請輸入小寫英文字[按q會離開]:Aaadddd\n",
      "請輸入小寫英文字[按q會離開]:結束程式\n"
     ]
    }
   ],
   "source": [
    "#輸入小寫的英文字,列印出第一個字大寫的英文字\n",
    "#如果輸入q,就會離開\n",
    "\n",
    "while(True):\n",
    "    stuff = pyip.inputStr(\"請輸入小寫英文字[按q會離開]:\")\n",
    "    if stuff == 'q':\n",
    "        break\n",
    "    print(stuff.capitalize())\n",
    "    \n",
    "    \n",
    "    \n",
    "print(\"結束程式\")"
   ]
  },
  {
   "cell_type": "code",
   "execution_count": 14,
   "metadata": {},
   "outputs": [
    {
     "name": "stdout",
     "output_type": "stream",
     "text": [
      "請輸入第0位學生成績:50\n",
      "請輸入第1位學生成績:60\n",
      "請輸入第2位學生成績:405\n",
      "請輸入第3位學生成績:50\n",
      "請輸入第4位學生成績:60\n",
      "請輸入第5位學生成績:-1\n",
      "全班總成績:625,平均為125.0\n"
     ]
    }
   ],
   "source": [
    "sum=0\n",
    "num=0\n",
    "while(True):\n",
    "    score=pyip.inputInt(f'請輸入第{num+1}位學生成績:')\n",
    "    print(score)\n",
    "    if score<0:\n",
    "        break\n",
    "    num+=1\n",
    "    sum+=score\n",
    "\n",
    "\n",
    "print(f\"全班總成績:{sum},平均為{sum/num}\")\n",
    "\n"
   ]
  },
  {
   "cell_type": "code",
   "execution_count": 21,
   "metadata": {},
   "outputs": [
    {
     "name": "stdout",
     "output_type": "stream",
     "text": [
      "5的平方是25\n",
      "7的平方是49\n",
      "9的平方是81\n",
      "55的平方是3025\n",
      "格式錯誤\n",
      "格式錯誤\n",
      "程式結束\n"
     ]
    }
   ],
   "source": [
    "#continue   和 break\n",
    "#顯示~奇數輸出平方!偶數不做任何動作~q要離開\n",
    "\n",
    "while(True):\n",
    "    value=input('請輸入整數,輸入{q]就離開:')\n",
    "    \n",
    "    if value == 'q':\n",
    "        break\n",
    "\n",
    "    try:\n",
    "        valueInt=int(value)\n",
    "    except:\n",
    "        print(f'格式錯誤')\n",
    "        continue\n",
    "    \n",
    "    if valueInt % 2 ==1:\n",
    "        print(f\"{valueInt}的平方是{valueInt**2}\")\n",
    "    else:\n",
    "        print(\"不做事\")\n",
    "print(\"程式結束\")"
   ]
  },
  {
   "cell_type": "code",
   "execution_count": null,
   "metadata": {},
   "outputs": [],
   "source": [
    "\n"
   ]
  }
 ],
 "metadata": {
  "kernelspec": {
   "display_name": "Python 3",
   "language": "python",
   "name": "python3"
  },
  "language_info": {
   "codemirror_mode": {
    "name": "ipython",
    "version": 3
   },
   "file_extension": ".py",
   "mimetype": "text/x-python",
   "name": "python",
   "nbconvert_exporter": "python",
   "pygments_lexer": "ipython3",
   "version": "3.10.13"
  }
 },
 "nbformat": 4,
 "nbformat_minor": 2
}
