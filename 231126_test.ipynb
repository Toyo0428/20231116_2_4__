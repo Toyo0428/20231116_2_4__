{
 "cells": [
  {
   "cell_type": "code",
   "execution_count": 25,
   "metadata": {},
   "outputs": [
    {
     "name": "stdout",
     "output_type": "stream",
     "text": [
      "23/11/26\n",
      "5\n",
      "五天後日期: 2023-11-21 Tuesday\n",
      "五天後的日期為23/11/21 Tuesday\n"
     ]
    }
   ],
   "source": [
    "from datetime import datetime, timedelta\n",
    "\n",
    "# 取得今天日期\n",
    "today = datetime.now()\n",
    "today_5=datetime.now()+timedelta(5)\n",
    "print(today.strftime(\"%y/%m/%d\"))\n",
    "print((today_5-today).days)\n",
    "#print(\"今天日期:\", today.strftime(\"%Y-%m-%d\"), today.strftime(\"%A\"))\n",
    "\n",
    "# 取得五天後的日期\n",
    "five_days_later = today + timedelta(days=-5)\n",
    "print(\"五天後日期:\", five_days_later.strftime(\"%Y-%m-%d\"), five_days_later.strftime(\"%A\"))\n",
    "print(f'五天後的日期為{five_days_later.strftime(\"%y/%m/%d %A\" )}')\n"
   ]
  },
  {
   "cell_type": "code",
   "execution_count": 8,
   "metadata": {},
   "outputs": [
    {
     "name": "stdout",
     "output_type": "stream",
     "text": [
      "日期1: 2023-10-20\n",
      "日期2: 2023-11-20\n",
      "兩日期間隔天數: 31\n"
     ]
    }
   ],
   "source": [
    "from datetime import datetime\n",
    "\n",
    "# 兩個數字串\n",
    "date_str1 = \"20231020\"\n",
    "date_str2 = \"20231120\"\n",
    "\n",
    "# 將數字串轉換為日期\n",
    "date_format = \"%Y%m%d\"\n",
    "date1 = datetime.strptime(date_str1, date_format)\n",
    "date2 = datetime.strptime(date_str2, date_format)\n",
    "\n",
    "# 計算兩個日期的間隔天數\n",
    "days_difference = (date2 - date1).days\n",
    "\n",
    "# 列印結果\n",
    "print(\"日期1:\", date1.strftime(\"%Y-%m-%d\"))\n",
    "print(\"日期2:\", date2.strftime(\"%Y-%m-%d\"))\n",
    "print(\"兩日期間隔天數:\", days_difference)\n"
   ]
  }
 ],
 "metadata": {
  "kernelspec": {
   "display_name": "Python 3",
   "language": "python",
   "name": "python3"
  },
  "language_info": {
   "codemirror_mode": {
    "name": "ipython",
    "version": 3
   },
   "file_extension": ".py",
   "mimetype": "text/x-python",
   "name": "python",
   "nbconvert_exporter": "python",
   "pygments_lexer": "ipython3",
   "version": "3.10.13"
  }
 },
 "nbformat": 4,
 "nbformat_minor": 2
}
