{
 "cells": [
  {
   "cell_type": "code",
   "execution_count": 1,
   "metadata": {},
   "outputs": [
    {
     "data": {
      "text/plain": [
       "[{'姓名': '陳怡伶', '國文': 89, '英文': 92, '數學': 83, '地理': 91, '歷史': 65},\n",
       " {'姓名': '馮芳如', '國文': 92, '英文': 75, '數學': 92, '地理': 89, '歷史': 77}]"
      ]
     },
     "execution_count": 1,
     "metadata": {},
     "output_type": "execute_result"
    }
   ],
   "source": [
    "stu1 = {\n",
    "    '姓名':'陳怡伶',\n",
    "    '國文':89,\n",
    "    '英文':92,\n",
    "    '數學':83,\n",
    "    '地理':91,\n",
    "    '歷史':65,\n",
    "    }\n",
    "\n",
    "stu2 = {\n",
    "    '姓名':'馮芳如',\n",
    "    '國文':92,\n",
    "    '英文':75,\n",
    "    '數學':92,\n",
    "    '地理':89,\n",
    "    '歷史':77,\n",
    "    }\n",
    "students = [stu1,stu2]\n",
    "students"
   ]
  },
  {
   "cell_type": "code",
   "execution_count": 4,
   "metadata": {},
   "outputs": [
    {
     "data": {
      "text/plain": [
       "[{'姓名': '陳怡伶', '國文': 89, '英文': 92, '數學': 83, '地理': 91, '歷史': 65},\n",
       " {'姓名': '馮芳如', '國文': 92, '英文': 75, '數學': 92, '地理': 89, '歷史': 77}]"
      ]
     },
     "execution_count": 4,
     "metadata": {},
     "output_type": "execute_result"
    }
   ],
   "source": [
    "def getStudents() -> list[dict]:\n",
    "    stu1 = {\n",
    "        '姓名':'陳怡伶',\n",
    "        '國文':89,\n",
    "        '英文':92,\n",
    "        '數學':83,\n",
    "        '地理':91,\n",
    "        '歷史':65,\n",
    "    }\n",
    "\n",
    "    stu2 = {\n",
    "        '姓名':'馮芳如',\n",
    "        '國文':92,\n",
    "        '英文':75,\n",
    "        '數學':92,\n",
    "        '地理':89,\n",
    "        '歷史':77,\n",
    "        }\n",
    "    students = [stu1,stu2]\n",
    "    return students\n",
    "\n",
    "getStudents()"
   ]
  },
  {
   "cell_type": "code",
   "execution_count": 5,
   "metadata": {},
   "outputs": [
    {
     "data": {
      "text/plain": [
       "[{'姓名': '陳怡伶', '國文': 89, '英文': 92, '數學': 83, '地理': 91, '歷史': 65},\n",
       " {'姓名': '馮芳如', '國文': 92, '英文': 75, '數學': 92, '地理': 89, '歷史': 77}]"
      ]
     },
     "execution_count": 5,
     "metadata": {},
     "output_type": "execute_result"
    }
   ],
   "source": [
    "def getStudents() -> list[dict]:\n",
    "    stu1 = {\n",
    "        '姓名':'陳怡伶',\n",
    "        '國文':89,\n",
    "        '英文':92,\n",
    "        '數學':83,\n",
    "        '地理':91,\n",
    "        '歷史':65,\n",
    "    }\n",
    "\n",
    "    stu2 = {\n",
    "        '姓名':'馮芳如',\n",
    "        '國文':92,\n",
    "        '英文':75,\n",
    "        '數學':92,\n",
    "        '地理':89,\n",
    "        '歷史':77,\n",
    "        }\n",
    "    students = []\n",
    "    for i in range(2):\n",
    "        students.append(stu1)\n",
    "    \n",
    "    return students\n",
    "\n",
    "getStudents()"
   ]
  },
  {
   "cell_type": "code",
   "execution_count": 8,
   "metadata": {},
   "outputs": [
    {
     "data": {
      "text/plain": [
       "[{'姓名': '陳怡伶', '國文': 61, '英文': 92, '數學': 83, '地理': 74, '歷史': 65},\n",
       " {'姓名': '陳怡伶', '國文': 68, '英文': 92, '數學': 83, '地理': 73, '歷史': 65}]"
      ]
     },
     "execution_count": 8,
     "metadata": {},
     "output_type": "execute_result"
    }
   ],
   "source": [
    "from random import randint\n",
    "\n",
    "\n",
    "def getStudents() -> list[dict]:  \n",
    "    students = []\n",
    "    for i in range(2):\n",
    "        stu = {\n",
    "        '姓名':'陳怡伶',\n",
    "        '國文':randint(45,100),\n",
    "        '英文':92,\n",
    "        '數學':83,\n",
    "        '地理':randint(45,100),\n",
    "        '歷史':65,\n",
    "        }\n",
    "        students.append(stu)\n",
    "        \n",
    "    return students\n",
    "\n",
    "getStudents()"
   ]
  },
  {
   "cell_type": "code",
   "execution_count": 10,
   "metadata": {},
   "outputs": [
    {
     "data": {
      "text/plain": [
       "[{'姓名': '鄭東洋', '國文': 50, '英文': 92, '數學': 83, '地理': 63, '歷史': 65},\n",
       " {'姓名': '鄭宇程', '國文': 74, '英文': 92, '數學': 83, '地理': 70, '歷史': 65}]"
      ]
     },
     "execution_count": 10,
     "metadata": {},
     "output_type": "execute_result"
    }
   ],
   "source": [
    "from random import randint\n",
    "\n",
    "\n",
    "def getStudents() -> list[dict]:  \n",
    "    students = []\n",
    "    names=['鄭東洋','鄭宇程']\n",
    "    for i in range(2):\n",
    "        stu = {\n",
    "        '姓名':names[i],\n",
    "        '國文':randint(45,100),\n",
    "        '英文':92,\n",
    "        '數學':83,\n",
    "        '地理':randint(45,100),\n",
    "        '歷史':65,\n",
    "        }\n",
    "        students.append(stu)\n",
    "        \n",
    "    return students\n",
    "\n",
    "getStudents()"
   ]
  },
  {
   "cell_type": "code",
   "execution_count": 11,
   "metadata": {},
   "outputs": [
    {
     "data": {
      "text/plain": [
       "[{'姓名': '周芷蓁', '國文': 46, '英文': 72, '數學': 82, '地理': 66, '歷史': 57},\n",
       " {'姓名': '吳柏誠', '國文': 69, '英文': 81, '數學': 68, '地理': 81, '歷史': 56}]"
      ]
     },
     "execution_count": 11,
     "metadata": {},
     "output_type": "execute_result"
    }
   ],
   "source": [
    "from random import randint,choices\n",
    "\n",
    "def getStudents() -> list[dict]:  \n",
    "    students = []\n",
    "    with open('names.txt',mode='r',encoding='utf-8') as file:\n",
    "        names:str = file.read()\n",
    "    nameList:list[str] = names.split('\\n')\n",
    "    names = choices(nameList,k=2)\n",
    "    \n",
    "    for i in range(2):\n",
    "        stu = {\n",
    "        '姓名':names[i],\n",
    "        '國文':randint(45,100),\n",
    "        '英文':randint(45,100),\n",
    "        '數學':randint(45,100),\n",
    "        '地理':randint(45,100),\n",
    "        '歷史':randint(45,100),\n",
    "        }\n",
    "        students.append(stu)\n",
    "        \n",
    "    return students\n",
    "\n",
    "getStudents()"
   ]
  },
  {
   "cell_type": "code",
   "execution_count": null,
   "metadata": {},
   "outputs": [],
   "source": []
  },
  {
   "cell_type": "code",
   "execution_count": 12,
   "metadata": {},
   "outputs": [
    {
     "data": {
      "text/plain": [
       "[{'姓名': '林詠斌', '國文': 61, '英文': 68, '數學': 94, '地理': 78, '歷史': 45},\n",
       " {'姓名': '劉依婷', '國文': 100, '英文': 73, '數學': 97, '地理': 56, '歷史': 98},\n",
       " {'姓名': '臧怡君', '國文': 48, '英文': 99, '數學': 74, '地理': 71, '歷史': 56},\n",
       " {'姓名': '賴苑禾', '國文': 97, '英文': 54, '數學': 86, '地理': 95, '歷史': 100},\n",
       " {'姓名': '吳晴洋', '國文': 82, '英文': 71, '數學': 46, '地理': 45, '歷史': 84},\n",
       " {'姓名': '周琬婷', '國文': 74, '英文': 66, '數學': 88, '地理': 76, '歷史': 97},\n",
       " {'姓名': '黃旻林', '國文': 90, '英文': 48, '數學': 100, '地理': 77, '歷史': 62},\n",
       " {'姓名': '蔡至剛', '國文': 62, '英文': 71, '數學': 91, '地理': 93, '歷史': 94},\n",
       " {'姓名': '龔姵君', '國文': 89, '英文': 70, '數學': 96, '地理': 96, '歷史': 64},\n",
       " {'姓名': '張凱妮', '國文': 59, '英文': 57, '數學': 80, '地理': 84, '歷史': 79},\n",
       " {'姓名': '楊偉翔', '國文': 87, '英文': 52, '數學': 65, '地理': 77, '歷史': 88},\n",
       " {'姓名': '余丞苓', '國文': 64, '英文': 56, '數學': 68, '地理': 97, '歷史': 92},\n",
       " {'姓名': '盧文啟', '國文': 45, '英文': 78, '數學': 86, '地理': 78, '歷史': 88},\n",
       " {'姓名': '林向鈺', '國文': 88, '英文': 89, '數學': 76, '地理': 61, '歷史': 68},\n",
       " {'姓名': '郭舜昇', '國文': 60, '英文': 62, '數學': 87, '地理': 48, '歷史': 78},\n",
       " {'姓名': '黃雅慧', '國文': 90, '英文': 71, '數學': 57, '地理': 68, '歷史': 91},\n",
       " {'姓名': '陳孝邦', '國文': 88, '英文': 69, '數學': 87, '地理': 100, '歷史': 89},\n",
       " {'姓名': '高士凱', '國文': 68, '英文': 88, '數學': 94, '地理': 71, '歷史': 77},\n",
       " {'姓名': '杜明延', '國文': 99, '英文': 85, '數學': 94, '地理': 73, '歷史': 81},\n",
       " {'姓名': '林昱芳', '國文': 81, '英文': 98, '數學': 94, '地理': 90, '歷史': 77},\n",
       " {'姓名': '楊健麟', '國文': 45, '英文': 58, '數學': 50, '地理': 86, '歷史': 63},\n",
       " {'姓名': '艾巧夫', '國文': 73, '英文': 91, '數學': 51, '地理': 57, '歷史': 62},\n",
       " {'姓名': '李湘婷', '國文': 45, '英文': 95, '數學': 94, '地理': 74, '歷史': 83},\n",
       " {'姓名': '洪奎夫', '國文': 71, '英文': 100, '數學': 83, '地理': 59, '歷史': 78},\n",
       " {'姓名': '彭虹屏', '國文': 92, '英文': 95, '數學': 48, '地理': 47, '歷史': 62},\n",
       " {'姓名': '程玫靖', '國文': 46, '英文': 79, '數學': 76, '地理': 88, '歷史': 77},\n",
       " {'姓名': '翁均安', '國文': 93, '英文': 55, '數學': 62, '地理': 88, '歷史': 55},\n",
       " {'姓名': '戚亨', '國文': 45, '英文': 82, '數學': 45, '地理': 89, '歷史': 70},\n",
       " {'姓名': '朱彥志', '國文': 83, '英文': 55, '數學': 48, '地理': 84, '歷史': 98},\n",
       " {'姓名': '唐翊修', '國文': 68, '英文': 64, '數學': 100, '地理': 74, '歷史': 88},\n",
       " {'姓名': '黃婷婷', '國文': 66, '英文': 87, '數學': 94, '地理': 58, '歷史': 59},\n",
       " {'姓名': '張伊映', '國文': 53, '英文': 88, '數學': 58, '地理': 51, '歷史': 47},\n",
       " {'姓名': '陳怡珊', '國文': 98, '英文': 60, '數學': 70, '地理': 72, '歷史': 74},\n",
       " {'姓名': '游淑惠', '國文': 73, '英文': 68, '數學': 64, '地理': 67, '歷史': 85},\n",
       " {'姓名': '陳冠竹', '國文': 76, '英文': 70, '數學': 70, '地理': 48, '歷史': 95},\n",
       " {'姓名': '彭茹靖', '國文': 86, '英文': 74, '數學': 93, '地理': 75, '歷史': 90},\n",
       " {'姓名': '王展人', '國文': 57, '英文': 48, '數學': 54, '地理': 68, '歷史': 47},\n",
       " {'姓名': '林希啟', '國文': 59, '英文': 94, '數學': 83, '地理': 60, '歷史': 52},\n",
       " {'姓名': '陳逸華', '國文': 60, '英文': 74, '數學': 64, '地理': 98, '歷史': 86},\n",
       " {'姓名': '蕭淑華', '國文': 46, '英文': 98, '數學': 94, '地理': 80, '歷史': 98},\n",
       " {'姓名': '邱亭君', '國文': 74, '英文': 74, '數學': 70, '地理': 100, '歷史': 94},\n",
       " {'姓名': '楊健麟', '國文': 89, '英文': 45, '數學': 63, '地理': 51, '歷史': 61},\n",
       " {'姓名': '沈心利', '國文': 52, '英文': 53, '數學': 50, '地理': 86, '歷史': 61},\n",
       " {'姓名': '張雅芬', '國文': 90, '英文': 92, '數學': 98, '地理': 78, '歷史': 85},\n",
       " {'姓名': '余宗儒', '國文': 98, '英文': 66, '數學': 50, '地理': 96, '歷史': 68},\n",
       " {'姓名': '吳麗卿', '國文': 71, '英文': 50, '數學': 80, '地理': 58, '歷史': 50},\n",
       " {'姓名': '鄧哲榮', '國文': 80, '英文': 77, '數學': 99, '地理': 97, '歷史': 47},\n",
       " {'姓名': '朱彥志', '國文': 98, '英文': 84, '數學': 68, '地理': 45, '歷史': 99},\n",
       " {'姓名': '蒙淑惠', '國文': 100, '英文': 89, '數學': 68, '地理': 92, '歷史': 71},\n",
       " {'姓名': '翁鈺婷', '國文': 95, '英文': 72, '數學': 93, '地理': 55, '歷史': 99}]"
      ]
     },
     "execution_count": 12,
     "metadata": {},
     "output_type": "execute_result"
    }
   ],
   "source": [
    "from random import randint,choices\n",
    "\n",
    "def getStudents(nums:int) -> list[dict]:  \n",
    "    students:list[dict] = []\n",
    "    with open('names.txt',mode='r',encoding='utf-8') as file:\n",
    "        names:str = file.read()\n",
    "    nameList:list[str] = names.split('\\n')\n",
    "    names:list[str] = choices(nameList,k=nums)\n",
    "\n",
    "    for i in range(nums):\n",
    "        stu = {\n",
    "        '姓名':names[i],\n",
    "        '國文':randint(45,100),\n",
    "        '英文':randint(45,100),\n",
    "        '數學':randint(45,100),\n",
    "        '地理':randint(45,100),\n",
    "        '歷史':randint(45,100),\n",
    "        }\n",
    "        students.append(stu)\n",
    "        \n",
    "    return students\n",
    "\n",
    "students = getStudents(50)\n",
    "students"
   ]
  },
  {
   "cell_type": "code",
   "execution_count": null,
   "metadata": {},
   "outputs": [],
   "source": [
    "import pyinputplus as pyip\n",
    "s_nums:int = pyip.inputInt(\"請輸入學生的人數(1~50):\",min=1,max=50)\n",
    "print(s_nums)\n",
    "students = getStudents(s_nums)\n",
    "students"
   ]
  },
  {
   "cell_type": "code",
   "execution_count": 13,
   "metadata": {},
   "outputs": [
    {
     "name": "stdout",
     "output_type": "stream",
     "text": [
      "寫入成功\n"
     ]
    }
   ],
   "source": [
    "import csv\n",
    "with open(\"class1.csv\",mode='w',encoding='utf-8',newline='') as file:\n",
    "    fieldnames = ['姓名', '國文', '英文', '數學', '地理', '歷史']\n",
    "    writer = csv.DictWriter(file,fieldnames=fieldnames)\n",
    "    writer.writeheader()\n",
    "    writer.writerows(students)\n",
    "print(\"寫入成功\")"
   ]
  },
  {
   "cell_type": "code",
   "execution_count": null,
   "metadata": {},
   "outputs": [],
   "source": [
    "import csv\n",
    "from csv import DictWriter\n",
    "\n",
    "def save_to_csv(students:list[dict]):\n",
    "    with open(\"class1.csv\",mode='w',encoding='utf-8',newline='') as file:\n",
    "        fieldnames:list[str] = ['姓名', '國文', '英文', '數學', '地理', '歷史']\n",
    "        writer:DictWriter = csv.DictWriter(file,fieldnames=fieldnames)\n",
    "        writer.writeheader()\n",
    "        writer.writerows(students)\n",
    "    print(\"寫入成功\")\n",
    "\n",
    "save_to_csv(students)"
   ]
  }
 ],
 "metadata": {
  "kernelspec": {
   "display_name": "Python 3",
   "language": "python",
   "name": "python3"
  },
  "language_info": {
   "codemirror_mode": {
    "name": "ipython",
    "version": 3
   },
   "file_extension": ".py",
   "mimetype": "text/x-python",
   "name": "python",
   "nbconvert_exporter": "python",
   "pygments_lexer": "ipython3",
   "version": "3.10.13"
  }
 },
 "nbformat": 4,
 "nbformat_minor": 2
}
