{
 "cells": [
  {
   "cell_type": "code",
   "execution_count": 4,
   "metadata": {},
   "outputs": [
    {
     "data": {
      "text/plain": [
       "7.0"
      ]
     },
     "execution_count": 4,
     "metadata": {},
     "output_type": "execute_result"
    }
   ],
   "source": [
    "0,5,9,14\n",
    "\n",
    "value1=0\n",
    "value1+=0\n",
    "value1+=5\n",
    "value1+=9\n",
    "value1+=14\n",
    "\n",
    "value1/4\n"
   ]
  },
  {
   "cell_type": "code",
   "execution_count": 3,
   "metadata": {},
   "outputs": [
    {
     "data": {
      "text/plain": [
       "7.0"
      ]
     },
     "execution_count": 3,
     "metadata": {},
     "output_type": "execute_result"
    }
   ],
   "source": [
    "value2=0\n",
    "value2+=5\n",
    "value2+=6\n",
    "value2+=8\n",
    "value2+=9\n",
    "value2/4\n"
   ]
  },
  {
   "cell_type": "code",
   "execution_count": 9,
   "metadata": {},
   "outputs": [
    {
     "name": "stdout",
     "output_type": "stream",
     "text": [
      "[0,5,9,14]的標準差:5.94418483337567\n",
      "[0,5,9,14]的平均:7 \n",
      "[5,6,8,9]的標準差:1.8257418583505538\n",
      "[5,6,8,9]的平均:7\n"
     ]
    }
   ],
   "source": [
    "import statistics\n",
    "\n",
    "mean1=statistics.mean([0,5,9,14])\n",
    "std1=statistics.stdev([0,5,9,14])\n",
    "print (f'[0,5,9,14]的標準差:{std1}')\n",
    "print (f'[0,5,9,14]的平均:{mean1} ')      \n",
    "\n",
    "mean2=statistics.mean([5,6,8,9])       \n",
    "std2=statistics.stdev([5,6,8,9])\n",
    "print (f'[5,6,8,9]的標準差:{std2}')\n",
    "print (f'[5,6,8,9]的平均:{mean2}')\n",
    "\n"
   ]
  },
  {
   "cell_type": "code",
   "execution_count": 13,
   "metadata": {},
   "outputs": [
    {
     "data": {
      "text/plain": [
       "True"
      ]
     },
     "execution_count": 13,
     "metadata": {},
     "output_type": "execute_result"
    }
   ],
   "source": [
    "4==4\n"
   ]
  },
  {
   "cell_type": "code",
   "execution_count": 15,
   "metadata": {},
   "outputs": [
    {
     "data": {
      "text/plain": [
       "True"
      ]
     },
     "execution_count": 15,
     "metadata": {},
     "output_type": "execute_result"
    }
   ],
   "source": [
    "5!=4"
   ]
  },
  {
   "cell_type": "code",
   "execution_count": 16,
   "metadata": {},
   "outputs": [
    {
     "data": {
      "text/plain": [
       "True"
      ]
     },
     "execution_count": 16,
     "metadata": {},
     "output_type": "execute_result"
    }
   ],
   "source": [
    "4>=3"
   ]
  },
  {
   "cell_type": "code",
   "execution_count": null,
   "metadata": {},
   "outputs": [],
   "source": []
  }
 ],
 "metadata": {
  "kernelspec": {
   "display_name": "Python 3",
   "language": "python",
   "name": "python3"
  },
  "language_info": {
   "codemirror_mode": {
    "name": "ipython",
    "version": 3
   },
   "file_extension": ".py",
   "mimetype": "text/x-python",
   "name": "python",
   "nbconvert_exporter": "python",
   "pygments_lexer": "ipython3",
   "version": "3.10.13"
  }
 },
 "nbformat": 4,
 "nbformat_minor": 2
}
