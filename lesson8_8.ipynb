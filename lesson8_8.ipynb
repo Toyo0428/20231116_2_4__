{
 "cells": [
  {
   "cell_type": "code",
   "execution_count": 9,
   "metadata": {},
   "outputs": [],
   "source": [
    "stu1=[78,92,95,76,92]\n",
    "stu2=[90,92,75,76,61]\n"
   ]
  },
  {
   "cell_type": "code",
   "execution_count": 13,
   "metadata": {},
   "outputs": [
    {
     "data": {
      "text/plain": [
       "[[78, 92, 95, 76, 92], [90, 92, 75, 76, 61]]"
      ]
     },
     "execution_count": 13,
     "metadata": {},
     "output_type": "execute_result"
    }
   ],
   "source": [
    "#2維\n",
    "students=[stu1,stu2]\n",
    "students"
   ]
  },
  {
   "cell_type": "code",
   "execution_count": 15,
   "metadata": {},
   "outputs": [],
   "source": [
    "dis=[0]\n"
   ]
  },
  {
   "cell_type": "code",
   "execution_count": 16,
   "metadata": {},
   "outputs": [
    {
     "data": {
      "text/plain": [
       "[78, 92, 95, 76, 92]"
      ]
     },
     "metadata": {},
     "output_type": "display_data"
    },
    {
     "data": {
      "text/plain": [
       "[90, 92, 75, 76, 61]"
      ]
     },
     "metadata": {},
     "output_type": "display_data"
    },
    {
     "data": {
      "text/plain": [
       "78"
      ]
     },
     "metadata": {},
     "output_type": "display_data"
    },
    {
     "data": {
      "text/plain": [
       "90"
      ]
     },
     "metadata": {},
     "output_type": "display_data"
    }
   ],
   "source": [
    "stu1 = [78, 92, 95, 76, 92]\n",
    "stu2 = [90, 92, 75, 76, 61]\n",
    "#2維的list\n",
    "students = [stu1, stu2]\n",
    "students\n",
    "[[78, 92, 95, 76, 92], [90, 92, 75, 76, 61]]\n",
    "display(students[0])\n",
    "display(students[1])\n",
    "[78, 92, 95, 76, 92]\n",
    "[90, 92, 75, 76, 61]\n",
    "display(students[0][0])\n",
    "display(students[1][0])"
   ]
  }
 ],
 "metadata": {
  "kernelspec": {
   "display_name": "Python 3",
   "language": "python",
   "name": "python3"
  },
  "language_info": {
   "codemirror_mode": {
    "name": "ipython",
    "version": 3
   },
   "file_extension": ".py",
   "mimetype": "text/x-python",
   "name": "python",
   "nbconvert_exporter": "python",
   "pygments_lexer": "ipython3",
   "version": "3.10.13"
  }
 },
 "nbformat": 4,
 "nbformat_minor": 2
}
