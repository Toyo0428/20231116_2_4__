{
 "cells": [
  {
   "cell_type": "code",
   "execution_count": 8,
   "metadata": {},
   "outputs": [
    {
     "name": "stdout",
     "output_type": "stream",
     "text": [
      "請輸入分數(1~100):88\n",
      "優\n"
     ]
    }
   ],
   "source": [
    "#請輸入學生分數0~100\n",
    "#0~59 不及格  60~79及格  80-100 優\n",
    "\n",
    "import pyinputplus as pyip\n",
    "\n",
    "scores=pyip.inputInt(\"請輸入分數(1~100):\",max=100,min=0)\n",
    "print(scores)\n",
    "if scores<60:\n",
    "    print(f'不及格,分數只有{scores}')\n",
    "elif scores<80:\n",
    "    print(\"及格\")\n",
    "else:   \n",
    "    print('優')\n",
    "    \n"
   ]
  },
  {
   "cell_type": "code",
   "execution_count": null,
   "metadata": {},
   "outputs": [],
   "source": [
    "#請輸入學生分數0~100\n",
    "#0~59 不及格  60~79及格  80-100 優\n",
    "\n",
    "import pyinputplus as pyip\n",
    "\n",
    "scores=pyip.inputInt(\"請輸入分數(1~100):\",max=100,min=0)\n",
    "print(scores)\n",
    "if scores<60:\n",
    "    print(f'不及格,分數只有{scores}')\n",
    "elif scores<80:\n",
    "    print(\"及格\")\n",
    "else:   \n",
    "    print('優')"
   ]
  },
  {
   "cell_type": "code",
   "execution_count": 17,
   "metadata": {},
   "outputs": [
    {
     "name": "stdout",
     "output_type": "stream",
     "text": [
      "請輸入分數(1~100):66\n",
      "丙\n"
     ]
    }
   ],
   "source": [
    "import pyinputplus as pyip\n",
    "\n",
    "scores=pyip.inputInt(\"請輸入分數(1~100):\",max=100,min=0)\n",
    "print(scores)\n",
    "\n",
    "if scores<60:\n",
    "    print('丁')\n",
    "elif scores<70:\n",
    "    print('丙')\n",
    "elif scores<80:\n",
    "    print('乙')\n",
    "elif scores<90:\n",
    "    print('甲')\n",
    "else:\n",
    "    print('優')\n",
    "\n",
    "\n"
   ]
  },
  {
   "cell_type": "code",
   "execution_count": 19,
   "metadata": {},
   "outputs": [
    {
     "name": "stdout",
     "output_type": "stream",
     "text": [
      "請輸入分數(1~100):92\n",
      "優\n"
     ]
    }
   ],
   "source": [
    "import pyinputplus as pyip\n",
    "\n",
    "scores=pyip.inputInt(\"請輸入分數(1~100):\",max=100,min=0)\n",
    "print(scores)\n",
    "\n",
    "if scores>=90:\n",
    "    print('優')\n",
    "elif scores>=80:\n",
    "    print('甲')\n",
    "elif scores>=70:\n",
    "    print('乙')\n",
    "elif scores>=60:\n",
    "    print('丙')\n",
    "else:\n",
    "    print('丁')\n"
   ]
  }
 ],
 "metadata": {
  "kernelspec": {
   "display_name": "Python 3",
   "language": "python",
   "name": "python3"
  },
  "language_info": {
   "codemirror_mode": {
    "name": "ipython",
    "version": 3
   },
   "file_extension": ".py",
   "mimetype": "text/x-python",
   "name": "python",
   "nbconvert_exporter": "python",
   "pygments_lexer": "ipython3",
   "version": "3.10.13"
  }
 },
 "nbformat": 4,
 "nbformat_minor": 2
}
