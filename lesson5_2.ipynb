{
 "cells": [
  {
   "cell_type": "code",
   "execution_count": 4,
   "metadata": {},
   "outputs": [
    {
     "name": "stdout",
     "output_type": "stream",
     "text": [
      "請輸入學生分數(最高300分):Number must be at maximum 300.\n",
      "請輸入學生分數(最高300分):Number must be at minimum 0.\n",
      "請輸入學生分數(最高300分):Number must be at minimum 0.\n",
      "請輸入學生分數(最高300分):270\n",
      "學生分數是284\n",
      "學生分數是283\n",
      "學生分數是284\n"
     ]
    }
   ],
   "source": [
    "import pyinputplus as pyip\n",
    "\n",
    "\n",
    "scores= pyip.inputInt(\"請輸入學生分數(最高300分):\",min=0,max=300)\n",
    "print(scores)\n",
    "if scores <=300:\n",
    "    is_add=input(\"學生是否符合加分條件?(y,n)\")   \n",
    "\n",
    "    if is_add==\"y\":\n",
    "        scores*=1.05\n",
    "        if scores>=300:\n",
    "            scores=300\n",
    "    \n",
    "    print(f'學生分數是{scores:.0f}') \n",
    "    print(f'學生分數是{int(scores)}') \n",
    "    print(f'學生分數是{round(scores)}')     \n",
    "    #scores+=100  #  y=y+10  =  y+=10\n",
    "\n",
    "else:\n",
    "    print(\"學生分數不可以超過300分\")"
   ]
  }
 ],
 "metadata": {
  "kernelspec": {
   "display_name": "Python 3",
   "language": "python",
   "name": "python3"
  },
  "language_info": {
   "codemirror_mode": {
    "name": "ipython",
    "version": 3
   },
   "file_extension": ".py",
   "mimetype": "text/x-python",
   "name": "python",
   "nbconvert_exporter": "python",
   "pygments_lexer": "ipython3",
   "version": "3.10.13"
  }
 },
 "nbformat": 4,
 "nbformat_minor": 2
}
