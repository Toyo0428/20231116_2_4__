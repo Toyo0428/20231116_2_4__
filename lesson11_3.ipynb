{
 "cells": [
  {
   "cell_type": "code",
   "execution_count": null,
   "metadata": {},
   "outputs": [],
   "source": [
    "codes:dict[str,str] = {'jp':'japan',\n",
    "                        'tw':'taiwan'}\n",
    "codes['tw']\n",
    "codes['jp']\n",
    "codes"
   ]
  },
  {
   "cell_type": "code",
   "execution_count": null,
   "metadata": {},
   "outputs": [],
   "source": [
    "codes1:dict[str,str] = dict([('jp','japan'),('tw','taiwan')])\n",
    "codes1"
   ]
  },
  {
   "cell_type": "code",
   "execution_count": null,
   "metadata": {},
   "outputs": [],
   "source": [
    "codes1.items()"
   ]
  },
  {
   "cell_type": "code",
   "execution_count": null,
   "metadata": {},
   "outputs": [],
   "source": [
    "codes1:dict[str,str] = dict([('jp','japan'),('tw','taiwan')])\n",
    "codes1"
   ]
  }
 ],
 "metadata": {
  "language_info": {
   "name": "python"
  }
 },
 "nbformat": 4,
 "nbformat_minor": 2
}
