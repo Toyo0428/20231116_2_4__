{
 "cells": [
  {
   "cell_type": "code",
   "execution_count": 1,
   "metadata": {},
   "outputs": [
    {
     "name": "stdout",
     "output_type": "stream",
     "text": [
      "55\n"
     ]
    }
   ],
   "source": [
    "value=0\n",
    "value+=1\n",
    "value+=2\n",
    "value+=3\n",
    "value+=4\n",
    "value+=5\n",
    "value+=6\n",
    "value+=7\n",
    "value+=8\n",
    "value+=9\n",
    "value+=10\n",
    "\n",
    "print(value)\n"
   ]
  },
  {
   "cell_type": "code",
   "execution_count": 14,
   "metadata": {},
   "outputs": [
    {
     "name": "stdout",
     "output_type": "stream",
     "text": [
      "1加到10總和為55\n"
     ]
    }
   ],
   "source": [
    "value=0\n",
    "\n",
    "for i in range(1,11):\n",
    "  value+=i\n",
    "\n",
    "print (f\"1加到10總和為{value}\")"
   ]
  },
  {
   "cell_type": "code",
   "execution_count": 1,
   "metadata": {},
   "outputs": [
    {
     "name": "stdout",
     "output_type": "stream",
     "text": [
      "250 的全部因數為: [1, 2, 5, 10, 25, 50, 125, 250]\n"
     ]
    }
   ],
   "source": [
    "# 輸入一個整數\n",
    "num = int(input(\"請輸入一個整數: \"))\n",
    "\n",
    "# 初始化一個空列表來存放因數\n",
    "factors = []\n",
    "\n",
    "# 找出因數\n",
    "for i in range(1, num + 1):\n",
    "    if num % i == 0:\n",
    "        factors.append(i)\n",
    "\n",
    "# 輸出結果\n",
    "print(f\"{num} 的全部因數為: {factors}\")\n"
   ]
  },
  {
   "cell_type": "code",
   "execution_count": 5,
   "metadata": {},
   "outputs": [
    {
     "name": "stdout",
     "output_type": "stream",
     "text": [
      "請輸入一個整數:500的全部因數有[1, 2, 4, 5, 10, 20, 25, 50, 100, 125, 250, 500]\n"
     ]
    }
   ],
   "source": [
    "import pyinputplus as pyip\n",
    "num= pyip.inputInt(\"請輸入一個整數:\")\n",
    "\n",
    "tmp=[]\n",
    "\n",
    "for i in range(1,num+1):\n",
    "    if num%i==0:\n",
    "        tmp.append(i)\n",
    "\n",
    "print(f'{num}的全部因數有{tmp}')"
   ]
  },
  {
   "cell_type": "code",
   "execution_count": 22,
   "metadata": {},
   "outputs": [
    {
     "name": "stdout",
     "output_type": "stream",
     "text": [
      "請輸入起始值2\n",
      "請輸入結束值55\n",
      "從2到55的加總是1539\n"
     ]
    }
   ],
   "source": [
    "import pyinputplus as pyip\n",
    "\n",
    "start=pyip.inputInt(\"請輸入起始值\")\n",
    "print (start)\n",
    "end=pyip.inputInt(\"請輸入結束值\")\n",
    "print(end)\n",
    "\n",
    "value=0\n",
    "for i in range(start,end+1):\n",
    "    value+=i\n",
    "print(f'從{start}到{end}的加總是{value}')"
   ]
  },
  {
   "cell_type": "code",
   "execution_count": 32,
   "metadata": {},
   "outputs": [
    {
     "name": "stdout",
     "output_type": "stream",
     "text": [
      "i=1\n",
      "j=1 j=2 j=3 j=4 j=5 j=6 j=7 j=8 j=9 \n",
      "======\n",
      "i=2\n",
      "j=1 j=2 j=3 j=4 j=5 j=6 j=7 j=8 j=9 \n",
      "======\n",
      "i=3\n",
      "j=1 j=2 j=3 j=4 j=5 j=6 j=7 j=8 j=9 \n",
      "======\n",
      "i=4\n",
      "j=1 j=2 j=3 j=4 j=5 j=6 j=7 j=8 j=9 \n",
      "======\n",
      "i=5\n",
      "j=1 j=2 j=3 j=4 j=5 j=6 j=7 j=8 j=9 \n",
      "======\n",
      "i=6\n",
      "j=1 j=2 j=3 j=4 j=5 j=6 j=7 j=8 j=9 \n",
      "======\n",
      "i=7\n",
      "j=1 j=2 j=3 j=4 j=5 j=6 j=7 j=8 j=9 \n",
      "======\n",
      "i=8\n",
      "j=1 j=2 j=3 j=4 j=5 j=6 j=7 j=8 j=9 \n",
      "======\n",
      "i=9\n",
      "j=1 j=2 j=3 j=4 j=5 j=6 j=7 j=8 j=9 \n",
      "======\n"
     ]
    }
   ],
   "source": [
    "for i in range(1,10):\n",
    "    print(f'i={i}')\n",
    "    for j in range(1,10):\n",
    "        print(f'j={j}',end=\" \")\n",
    "    \n",
    "    print()\n",
    "    print('======')"
   ]
  },
  {
   "cell_type": "code",
   "execution_count": 45,
   "metadata": {},
   "outputs": [
    {
     "name": "stdout",
     "output_type": "stream",
     "text": [
      "1 * 1 = 1   1 * 2 = 2   1 * 3 = 3   1 * 4 = 4   1 * 5 = 5   1 * 6 = 6   1 * 7 = 7   1 * 8 = 8   1 * 9 = 9   \n",
      "2 * 1 = 2   2 * 2 = 4   2 * 3 = 6   2 * 4 = 8   2 * 5 =10   2 * 6 =12   2 * 7 =14   2 * 8 =16   2 * 9 =18   \n",
      "3 * 1 = 3   3 * 2 = 6   3 * 3 = 9   3 * 4 =12   3 * 5 =15   3 * 6 =18   3 * 7 =21   3 * 8 =24   3 * 9 =27   \n",
      "4 * 1 = 4   4 * 2 = 8   4 * 3 =12   4 * 4 =16   4 * 5 =20   4 * 6 =24   4 * 7 =28   4 * 8 =32   4 * 9 =36   \n",
      "5 * 1 = 5   5 * 2 =10   5 * 3 =15   5 * 4 =20   5 * 5 =25   5 * 6 =30   5 * 7 =35   5 * 8 =40   5 * 9 =45   \n",
      "6 * 1 = 6   6 * 2 =12   6 * 3 =18   6 * 4 =24   6 * 5 =30   6 * 6 =36   6 * 7 =42   6 * 8 =48   6 * 9 =54   \n",
      "7 * 1 = 7   7 * 2 =14   7 * 3 =21   7 * 4 =28   7 * 5 =35   7 * 6 =42   7 * 7 =49   7 * 8 =56   7 * 9 =63   \n",
      "8 * 1 = 8   8 * 2 =16   8 * 3 =24   8 * 4 =32   8 * 5 =40   8 * 6 =48   8 * 7 =56   8 * 8 =64   8 * 9 =72   \n",
      "9 * 1 = 9   9 * 2 =18   9 * 3 =27   9 * 4 =36   9 * 5 =45   9 * 6 =54   9 * 7 =63   9 * 8 =72   9 * 9 =81   \n"
     ]
    }
   ],
   "source": [
    "for i in range(1,10):\n",
    "    #print(f'i={i}')\n",
    "    for j in range(1,10):\n",
    "        q=i*j\n",
    "        print(f'{i:<2d}*{j:2d} ={i*j:2d}',end=\"   \")\n",
    "    \n",
    "    print()\n",
    "    #print('======')"
   ]
  },
  {
   "cell_type": "code",
   "execution_count": 54,
   "metadata": {},
   "outputs": [
    {
     "name": "stdout",
     "output_type": "stream",
     "text": [
      "55\n"
     ]
    }
   ],
   "source": [
    "\n",
    "i=1\n",
    "value=0\n",
    "while i<=10:\n",
    "   value=value+i\n",
    "   i+=1\n",
    "   #print(i)\n",
    "print(value)"
   ]
  },
  {
   "cell_type": "code",
   "execution_count": 8,
   "metadata": {},
   "outputs": [
    {
     "name": "stdout",
     "output_type": "stream",
     "text": [
      "請輸入顧客購買金額130000\n",
      "實付金額是:104000.0元\n"
     ]
    }
   ],
   "source": [
    "import pyinputplus as pyip\n",
    "Money=pyip.inputInt(\"請輸入顧客購買金額\")\n",
    "print(Money)\n",
    "\n",
    "if Money>= 100000 :\n",
    "    Money*=0.8\n",
    "elif Money>= 50000 :\n",
    "    Money*=0.85\n",
    "elif Money>= 30000 :\n",
    "    Money*=0.9\n",
    "elif Money>= 10000 :\n",
    "    Money*=0.95\n",
    "\n",
    "print(f'實付金額是:{Money}元')\n"
   ]
  },
  {
   "cell_type": "code",
   "execution_count": 25,
   "metadata": {},
   "outputs": [
    {
     "name": "stdout",
     "output_type": "stream",
     "text": [
      "請輸入身高,單位為(公分)請輸入體重,單位為(公斤)您的BMI是58.77551\n",
      "58.776\n",
      "你的BMI是58.77551\n",
      "「重度肥胖」\n"
     ]
    }
   ],
   "source": [
    "import pyinputplus as pyip\n",
    "hight=pyip.inputFloat(\"請輸入身高,單位為(公分)\",min=0)\n",
    "weight=pyip.inputFloat(\"請輸入體重,單位為(公斤)\",min=0)\n",
    "bmi=weight/(hight/100)**2\n",
    "print (f\"您的BMI是{bmi:.5f}\")\n",
    "print (round(bmi,3))\n",
    "\n",
    "if bmi>=35 :\n",
    "    print(f'你的BMI是{bmi:.5f}\\n「重度肥胖」')\n",
    "elif bmi>=30 :\n",
    "    print(f'你的BMI是{bmi:.5f}\\n「中度肥胖」')\n",
    "elif bmi>=27 :\n",
    "    print(f'你的BMI是{bmi:.5f}\\n「輕度肥胖」')\n",
    "elif bmi>=24 :\n",
    "    print(f'你的BMI是{bmi:.5f}\\n「過重」')\n",
    "elif bmi<18.5 :\n",
    "    print(f'你的BMI是{bmi:.5f}\\n「體重過輕」')\n",
    "else :\n",
    "    print(f'你的BMI是{bmi:.5f}\\n「正常範圍」')\n"
   ]
  }
 ],
 "metadata": {
  "kernelspec": {
   "display_name": "Python 3",
   "language": "python",
   "name": "python3"
  },
  "language_info": {
   "codemirror_mode": {
    "name": "ipython",
    "version": 3
   },
   "file_extension": ".py",
   "mimetype": "text/x-python",
   "name": "python",
   "nbconvert_exporter": "python",
   "pygments_lexer": "ipython3",
   "version": "3.10.13"
  }
 },
 "nbformat": 4,
 "nbformat_minor": 2
}
